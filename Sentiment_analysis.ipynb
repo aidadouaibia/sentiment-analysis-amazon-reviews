{
  "nbformat": 4,
  "nbformat_minor": 0,
  "metadata": {
    "colab": {
      "provenance": []
    },
    "kernelspec": {
      "name": "python3",
      "display_name": "Python 3"
    },
    "language_info": {
      "name": "python"
    }
  },
  "cells": [
    {
      "cell_type": "markdown",
      "source": [
        "##Introduction\n",
        "\n",
        "Sentiment analysis is a Natural Language Processing (NLP) task that aims to determine the sentiment expressed in a piece of text, such as positive, neutral, or negative. In this project, we analyze Amazon product reviews to classify user opinions into three sentiment categories.\n",
        "\n",
        "The main challenges of this dataset are:\n",
        "\n",
        "**Text preprocessing** is required to clean and normalize the reviews (removing stopwords, punctuation, lemmatization, etc.).\n",
        "\n",
        "**Imbalanced data**: most reviews are positive, while neutral and negative classes are underrepresented. This can bias the model toward predicting only the majority class.\n",
        "\n",
        "To handle these issues, we applied:\n",
        "\n",
        "**Vectorization (TF-IDF)** to convert text into numerical features.\n",
        "\n",
        "**SMOTE (Synthetic Minority Oversampling Technique)** to balance the dataset by generating synthetic samples of minority classes.\n",
        "\n",
        "**Logistic Regression** as the baseline classifier.\n",
        "\n",
        "**GridSearchCV combined with SMOTE** in a pipeline to optimize hyperparameters and improve classification performance.\n",
        "\n",
        "This approach allows us to evaluate whether resampling and hyperparameter tuning lead to better predictions, especially for minority classes."
      ],
      "metadata": {
        "id": "ZFwuJPAShH3C"
      }
    },
    {
      "cell_type": "markdown",
      "source": [
        "###Import Required Libraries\n",
        "\n",
        "We start by importing the necessary Python libraries for our sentiment analysis task:\n",
        "\n",
        "- **pandas & numpy** → For data manipulation and handling.\n",
        "- **re & string** → For cleaning text using regular expressions and string operations.\n",
        "- **nltk** → For Natural Language Processing tasks like tokenization, stopwords removal, and lemmatization.\n",
        "- **scikit-learn** → For splitting data, vectorizing text, training models, and evaluating performance.\n",
        "- **seaborn & matplotlib** → For visualizing results, such as confusion matrices.\n",
        "\n",
        "\n",
        "\n"
      ],
      "metadata": {
        "id": "H2o7kIBPXf3D"
      }
    },
    {
      "cell_type": "code",
      "execution_count": 22,
      "metadata": {
        "id": "wt5G-FaibrOq"
      },
      "outputs": [],
      "source": [
        "import pandas as pd\n",
        "import numpy as np\n",
        "import re\n",
        "import string\n",
        "import nltk\n",
        "from sklearn.model_selection import train_test_split , GridSearchCV\n",
        "from sklearn.feature_extraction.text import TfidfVectorizer\n",
        "from sklearn.metrics import classification_report, confusion_matrix\n",
        "from sklearn.svm import LinearSVC\n",
        "from imblearn.over_sampling import SMOTE\n",
        "import seaborn as sns\n",
        "import matplotlib.pyplot as plt\n",
        "from sklearn.linear_model import LogisticRegression\n",
        "from imblearn.pipeline import Pipeline\n",
        "from collections import Counter\n"
      ]
    },
    {
      "cell_type": "markdown",
      "source": [
        "## Download NLTK Resources\n",
        "\n",
        "Before preprocessing text, we need to download some essential **NLTK corpora and models**:\n",
        "- `stopwords`: list of common words (like *the, is, in*) that are usually removed during preprocessing.\n",
        "- `punkt_tab`: tokenizer models for sentence and word splitting.\n",
        "- `wordnet`: lexical database required for **lemmatization** (reducing words to their base form).\n",
        "\n",
        "These resources are downloaded once and then used across the project.\n"
      ],
      "metadata": {
        "id": "KwB_QSg763b5"
      }
    },
    {
      "cell_type": "code",
      "source": [
        "nltk.download('stopwords')\n",
        "nltk.download('punkt_tab')\n",
        "nltk.download('wordnet')"
      ],
      "metadata": {
        "colab": {
          "base_uri": "https://localhost:8080/"
        },
        "id": "74VcGGilRCWp",
        "outputId": "33f13a42-9359-4059-fc60-e4ce32ed0df9"
      },
      "execution_count": 2,
      "outputs": [
        {
          "output_type": "stream",
          "name": "stderr",
          "text": [
            "[nltk_data] Downloading package stopwords to /root/nltk_data...\n",
            "[nltk_data]   Unzipping corpora/stopwords.zip.\n",
            "[nltk_data] Downloading package punkt_tab to /root/nltk_data...\n",
            "[nltk_data]   Unzipping tokenizers/punkt_tab.zip.\n",
            "[nltk_data] Downloading package wordnet to /root/nltk_data...\n"
          ]
        },
        {
          "output_type": "execute_result",
          "data": {
            "text/plain": [
              "True"
            ]
          },
          "metadata": {},
          "execution_count": 2
        }
      ]
    },
    {
      "cell_type": "markdown",
      "source": [
        "###  Load and Prepare the Dataset\n",
        "\n",
        "We load the Amazon reviews dataset from a CSV file using **pandas**.\n",
        "\n",
        "- Only two columns are retained:  \n",
        "  - `reviews.text` → the main review text.\n",
        "  - `reviews.rating` → the numeric rating given by the customer.\n",
        "- Missing values in these columns are removed to ensure data quality.\n",
        "\n",
        "This keeps our dataset focused only on the features we need for sentiment classification.\n"
      ],
      "metadata": {
        "id": "dx0u8RhjecIo"
      }
    },
    {
      "cell_type": "code",
      "source": [
        "df = pd.read_csv(\"/content/amazon_reviews.csv\")\n",
        "print(df.head())"
      ],
      "metadata": {
        "colab": {
          "base_uri": "https://localhost:8080/"
        },
        "id": "DcowXUnLdfst",
        "outputId": "565db97d-7f55-4435-e887-3f44b2a80a90"
      },
      "execution_count": 3,
      "outputs": [
        {
          "output_type": "stream",
          "name": "stdout",
          "text": [
            "                     id       asins   brand                  categories  \\\n",
            "0  AVpe7AsMilAPnD_xQ78G  B00QJDU3KY  Amazon  Amazon Devices,mazon.co.uk   \n",
            "1  AVpe7AsMilAPnD_xQ78G  B00QJDU3KY  Amazon  Amazon Devices,mazon.co.uk   \n",
            "2  AVpe7AsMilAPnD_xQ78G  B00QJDU3KY  Amazon  Amazon Devices,mazon.co.uk   \n",
            "3  AVpe7AsMilAPnD_xQ78G  B00QJDU3KY  Amazon  Amazon Devices,mazon.co.uk   \n",
            "4  AVpe7AsMilAPnD_xQ78G  B00QJDU3KY  Amazon  Amazon Devices,mazon.co.uk   \n",
            "\n",
            "  colors             dateAdded           dateUpdated  \\\n",
            "0    NaN  2016-03-08T20:21:53Z  2017-07-18T23:52:58Z   \n",
            "1    NaN  2016-03-08T20:21:53Z  2017-07-18T23:52:58Z   \n",
            "2    NaN  2016-03-08T20:21:53Z  2017-07-18T23:52:58Z   \n",
            "3    NaN  2016-03-08T20:21:53Z  2017-07-18T23:52:58Z   \n",
            "4    NaN  2016-03-08T20:21:53Z  2017-07-18T23:52:58Z   \n",
            "\n",
            "                  dimension  ean                         keys  ...  \\\n",
            "0  169 mm x 117 mm x 9.1 mm  NaN  kindlepaperwhite/b00qjdu3ky  ...   \n",
            "1  169 mm x 117 mm x 9.1 mm  NaN  kindlepaperwhite/b00qjdu3ky  ...   \n",
            "2  169 mm x 117 mm x 9.1 mm  NaN  kindlepaperwhite/b00qjdu3ky  ...   \n",
            "3  169 mm x 117 mm x 9.1 mm  NaN  kindlepaperwhite/b00qjdu3ky  ...   \n",
            "4  169 mm x 117 mm x 9.1 mm  NaN  kindlepaperwhite/b00qjdu3ky  ...   \n",
            "\n",
            "  reviews.rating                                 reviews.sourceURLs  \\\n",
            "0            5.0  https://www.amazon.com/Kindle-Paperwhite-High-...   \n",
            "1            5.0  https://www.amazon.com/Kindle-Paperwhite-High-...   \n",
            "2            4.0  https://www.amazon.com/Kindle-Paperwhite-High-...   \n",
            "3            5.0  https://www.amazon.com/Kindle-Paperwhite-High-...   \n",
            "4            5.0  https://www.amazon.com/Kindle-Paperwhite-High-...   \n",
            "\n",
            "                                        reviews.text  \\\n",
            "0  I initially had trouble deciding between the p...   \n",
            "1  Allow me to preface this with a little history...   \n",
            "2  I am enjoying it so far. Great for reading. Ha...   \n",
            "3  I bought one of the first Paperwhites and have...   \n",
            "4  I have to say upfront - I don't like coroporat...   \n",
            "\n",
            "                                reviews.title reviews.userCity  \\\n",
            "0              Paperwhite voyage, no regrets!              NaN   \n",
            "1           One Simply Could Not Ask For More              NaN   \n",
            "2  Great for those that just want an e-reader              NaN   \n",
            "3                    Love / Hate relationship              NaN   \n",
            "4                                   I LOVE IT              NaN   \n",
            "\n",
            "  reviews.userProvince    reviews.username  sizes upc     weight  \n",
            "0                  NaN          Cristina M    NaN NaN  205 grams  \n",
            "1                  NaN               Ricky    NaN NaN  205 grams  \n",
            "2                  NaN       Tedd Gardiner    NaN NaN  205 grams  \n",
            "3                  NaN              Dougal    NaN NaN  205 grams  \n",
            "4                  NaN  Miljan David Tanic    NaN NaN  205 grams  \n",
            "\n",
            "[5 rows x 27 columns]\n"
          ]
        }
      ]
    },
    {
      "cell_type": "code",
      "source": [
        "df.columns"
      ],
      "metadata": {
        "colab": {
          "base_uri": "https://localhost:8080/"
        },
        "id": "ni2MipQLLAPd",
        "outputId": "12d239ed-7741-4c02-d89d-99286150b01b"
      },
      "execution_count": 4,
      "outputs": [
        {
          "output_type": "execute_result",
          "data": {
            "text/plain": [
              "Index(['id', 'asins', 'brand', 'categories', 'colors', 'dateAdded',\n",
              "       'dateUpdated', 'dimension', 'ean', 'keys', 'manufacturer',\n",
              "       'manufacturerNumber', 'name', 'prices', 'reviews.date',\n",
              "       'reviews.doRecommend', 'reviews.numHelpful', 'reviews.rating',\n",
              "       'reviews.sourceURLs', 'reviews.text', 'reviews.title',\n",
              "       'reviews.userCity', 'reviews.userProvince', 'reviews.username', 'sizes',\n",
              "       'upc', 'weight'],\n",
              "      dtype='object')"
            ]
          },
          "metadata": {},
          "execution_count": 4
        }
      ]
    },
    {
      "cell_type": "markdown",
      "source": [
        "id → Unique identifier for the product (or entry) in the dataset.\n",
        "\n",
        "asins → Amazon Standard Identification Number — unique Amazon product code.\n",
        "\n",
        "brand → Brand name of the product (e.g., Samsung, Nike).\n",
        "\n",
        "categories → List of product categories (e.g., “Electronics > Phones”).\n",
        "\n",
        "colors → Colors available for the product (if applicable).\n",
        "\n",
        "dimension → Physical dimensions of the product (size measurements).\n",
        "\n",
        "ean → European Article Number — another product identifier.\n",
        "\n",
        "keys → Possibly keywords associated with the product.\n",
        "\n",
        "manufacturer → Name of the company that made the product.\n",
        "\n",
        "manufacturerNumber → Manufacturer's internal reference number.\n",
        "\n",
        "name → Name/title of the product.\n",
        "\n",
        "sizes → Sizes available (clothes, shoes, etc.).\n",
        "\n",
        "upc → Universal Product Code — another identifier (often barcode number).\n",
        "\n",
        "weight → Product weight.\n",
        "\n",
        "prices → Price of the product\n",
        "\n",
        "reviews.date → Date when the review was posted.\n",
        "\n",
        "reviews.doRecommend → Boolean (True/False) — whether the reviewer recommends the product.\n",
        "\n",
        "reviews.numHelpful → Number of people who found the review helpful.\n",
        "\n",
        "reviews.rating → Numeric rating .\n",
        "\n",
        "reviews.sourceURLs → URL to the review’s source.\n",
        "\n",
        "reviews.text → The actual review content (main text to use for NLP).\n",
        "\n",
        "reviews.title → Title/summary of the review.\n",
        "\n",
        "reviews.userCity → Reviewer’s city.\n",
        "\n",
        "reviews.userProvince → Reviewer’s province/state.\n",
        "\n",
        "reviews.username\n",
        "\n",
        "dateAdded → Date the product was added to the dataset/platform.\n",
        "\n",
        "dateUpdated → Date product info was last updated."
      ],
      "metadata": {
        "id": "9i8dFJ5YNsIN"
      }
    },
    {
      "cell_type": "code",
      "source": [
        "# Keep only the relevant columns\n",
        "df = df[['reviews.text', 'reviews.rating']]\n",
        "\n",
        "# Drop missing values\n",
        "df.dropna(subset=['reviews.text', 'reviews.rating'], inplace=True)"
      ],
      "metadata": {
        "id": "cY8j-l-pR_IF"
      },
      "execution_count": 5,
      "outputs": []
    },
    {
      "cell_type": "markdown",
      "source": [
        "##Create Sentiment Labels from Ratings\n",
        "\n",
        "#### Convert Ratings to Sentiment Labels\n",
        "\n",
        "We define a function to map numeric ratings (1–5 stars) to categorical sentiments:\n",
        "\n",
        "- **Positive** → ratings 4 and 5\n",
        "- **Neutral** → rating 3\n",
        "- **Negative** → ratings 1 and 2\n",
        "\n",
        "We then apply this function to create a new column `sentiment`, which will be used as the target variable in our model.\n"
      ],
      "metadata": {
        "id": "-O-8H3DomwGw"
      }
    },
    {
      "cell_type": "code",
      "source": [
        "def rating_to_sentiment(rating):\n",
        "    if rating >= 4:\n",
        "        return \"positive\"\n",
        "    elif rating == 3:\n",
        "        return \"neutral\"\n",
        "    else:\n",
        "        return \"negative\"\n",
        "\n",
        "df['sentiment'] = df['reviews.rating'].apply(rating_to_sentiment)\n"
      ],
      "metadata": {
        "id": "rrqMO7XYTHN4"
      },
      "execution_count": 6,
      "outputs": []
    },
    {
      "cell_type": "markdown",
      "source": [
        "### Class Distribution Analysis\n",
        "\n"
      ],
      "metadata": {
        "id": "8mSCuhpW-iuj"
      }
    },
    {
      "cell_type": "code",
      "source": [
        "df['sentiment'].value_counts()"
      ],
      "metadata": {
        "colab": {
          "base_uri": "https://localhost:8080/",
          "height": 209
        },
        "id": "8p517TkjqWJ8",
        "outputId": "ab95c470-ee2a-4867-8968-6585ba62fede"
      },
      "execution_count": 7,
      "outputs": [
        {
          "output_type": "execute_result",
          "data": {
            "text/plain": [
              "sentiment\n",
              "positive    977\n",
              "neutral     124\n",
              "negative     76\n",
              "Name: count, dtype: int64"
            ],
            "text/html": [
              "<div>\n",
              "<style scoped>\n",
              "    .dataframe tbody tr th:only-of-type {\n",
              "        vertical-align: middle;\n",
              "    }\n",
              "\n",
              "    .dataframe tbody tr th {\n",
              "        vertical-align: top;\n",
              "    }\n",
              "\n",
              "    .dataframe thead th {\n",
              "        text-align: right;\n",
              "    }\n",
              "</style>\n",
              "<table border=\"1\" class=\"dataframe\">\n",
              "  <thead>\n",
              "    <tr style=\"text-align: right;\">\n",
              "      <th></th>\n",
              "      <th>count</th>\n",
              "    </tr>\n",
              "    <tr>\n",
              "      <th>sentiment</th>\n",
              "      <th></th>\n",
              "    </tr>\n",
              "  </thead>\n",
              "  <tbody>\n",
              "    <tr>\n",
              "      <th>positive</th>\n",
              "      <td>977</td>\n",
              "    </tr>\n",
              "    <tr>\n",
              "      <th>neutral</th>\n",
              "      <td>124</td>\n",
              "    </tr>\n",
              "    <tr>\n",
              "      <th>negative</th>\n",
              "      <td>76</td>\n",
              "    </tr>\n",
              "  </tbody>\n",
              "</table>\n",
              "</div><br><label><b>dtype:</b> int64</label>"
            ]
          },
          "metadata": {},
          "execution_count": 7
        }
      ]
    },
    {
      "cell_type": "markdown",
      "source": [
        "The sentiment classes are imbalanced, with **positive reviews dominating**.  \n",
        "This is common in product review datasets, since satisfied customers are more likely to leave reviews.  \n"
      ],
      "metadata": {
        "id": "6B5Cehc1-7VW"
      }
    },
    {
      "cell_type": "markdown",
      "source": [
        "### Text Cleaning and Preprocessing\n",
        "\n",
        "This function processes the text in several steps:\n",
        "\n",
        "1. **Lowercasing** → avoids case sensitivity issues.\n",
        "2. **Punctuation Removal** → removes unnecessary characters.\n",
        "3. **Tokenization** → splits text into individual words using NLTK's tokenizer.\n",
        "4. **Stopwords Removal** → removes common words (like \"the\", \"is\") that don't add meaning.\n",
        "5. **Lemmatization** → converts words to their base form.\n",
        "\n",
        "The cleaned text is stored in a new column `clean_text`.\n",
        "\n",
        "This ensures our model receives normalized, noise-free input for better accuracy.\n"
      ],
      "metadata": {
        "id": "TQQqnDRhlbyo"
      }
    },
    {
      "cell_type": "code",
      "source": [
        "from nltk.corpus import stopwords\n",
        "from nltk.stem import WordNetLemmatizer\n",
        "\n",
        "stop_words = set(stopwords.words('english'))\n",
        "lemmatizer = WordNetLemmatizer()\n",
        "\n",
        "def clean_text(text):\n",
        "    # Lowercase\n",
        "    text = text.lower()\n",
        "    text = re.sub(r\"\\'s\", \" is\", text)\n",
        "    text = re.sub(r\"n\\'t\", \" not\", text)\n",
        "    text = re.sub(r\"\\'re\", \" are\", text)\n",
        "    text = re.sub(r\"[^a-z\\s]\", \" \", text)\n",
        "    # Tokenize\n",
        "    tokens = nltk.word_tokenize(text)\n",
        "    # Remove stopwords & lemmatize\n",
        "    tokens = [lemmatizer.lemmatize(word) for word in tokens if word not in stop_words]\n",
        "    return \" \".join(tokens)\n",
        "\n",
        "df['clean_text'] = df['reviews.text'].apply(clean_text)\n"
      ],
      "metadata": {
        "id": "Q04SRFv_T1iQ"
      },
      "execution_count": 8,
      "outputs": []
    },
    {
      "cell_type": "markdown",
      "source": [
        "## Train/Test Split\n",
        "\n",
        "#### Splitting the Dataset\n",
        "\n",
        "We split the dataset into:\n",
        "- **Training set (80%)** → for fitting the model.\n",
        "- **Test set (20%)** → for evaluating the model.\n",
        "\n",
        "We use `stratify` to ensure that the class distribution (positive, neutral, negative) remains balanced in both sets.\n",
        "\n",
        "This prevents bias during training and testing.\n"
      ],
      "metadata": {
        "id": "Di5urGXel08Z"
      }
    },
    {
      "cell_type": "code",
      "source": [
        "X_train, X_test, y_train, y_test = train_test_split(\n",
        "    df['clean_text'],\n",
        "    df['sentiment'],\n",
        "    test_size=0.2,\n",
        "    random_state=42,\n",
        "    stratify=df['sentiment']\n",
        "    )\n"
      ],
      "metadata": {
        "id": "S4ii12tMiJSG"
      },
      "execution_count": 9,
      "outputs": []
    },
    {
      "cell_type": "markdown",
      "source": [
        "## Text Vectorization with TF-IDF\n",
        "\n",
        "We convert cleaned text into numerical vectors using **TF-IDF** (Term Frequency - Inverse Document Frequency):\n",
        "\n",
        "- **TF** → how often a word appears in a document.\n",
        "- **IDF** → how rare the word is across the dataset.\n",
        "\n",
        "This representation allows the model to capture the importance of each word in predicting sentiment.\n"
      ],
      "metadata": {
        "id": "uGZBVAmIl-IJ"
      }
    },
    {
      "cell_type": "code",
      "source": [
        "vectorizer = TfidfVectorizer(min_df=3,     # drop very rare terms\n",
        "    ngram_range=(1,2) )\n",
        "X_train_vec = vectorizer.fit_transform(X_train)\n",
        "X_test_vec = vectorizer.transform(X_test)"
      ],
      "metadata": {
        "id": "3VTWqJ1M8nI1"
      },
      "execution_count": 10,
      "outputs": []
    },
    {
      "cell_type": "markdown",
      "source": [
        "### Handling Class Imbalance with SMOTE\n",
        "\n",
        "Our dataset is **imbalanced** (positive reviews dominate).  \n",
        "To avoid the model being biased toward the majority class, we apply **SMOTE (Synthetic Minority Oversampling Technique)**:\n",
        "\n",
        "- **Idea**: Instead of duplicating minority samples, SMOTE generates **synthetic samples** by interpolating between existing ones.  \n",
        "- **`sampling_strategy='not majority'`**: resample all classes except the majority (positive) until they are balanced relative to each other.  \n",
        "- This creates a more balanced training set, improving the model’s ability to learn from **neutral** and **negative** reviews.\n"
      ],
      "metadata": {
        "id": "M0yN0MIMFbU_"
      }
    },
    {
      "cell_type": "code",
      "source": [
        "smote = SMOTE(sampling_strategy='not majority', random_state=42)\n",
        "X_train_res, y_train_res = smote.fit_resample(X_train_vec, y_train)"
      ],
      "metadata": {
        "id": "wHwhVRoD82Dj"
      },
      "execution_count": 11,
      "outputs": []
    },
    {
      "cell_type": "code",
      "source": [
        "\n",
        "# Check distribution before SMOTE\n",
        "print(\"Class distribution before SMOTE:\", Counter(y_train))\n",
        "sns.countplot(x=y_train)\n",
        "plt.title(\"Class Distribution Before SMOTE\")\n",
        "plt.show()\n",
        "\n",
        "\n",
        "# Check distribution after SMOTE\n",
        "print(\"Class distribution after SMOTE:\", Counter(y_train_res))\n",
        "sns.countplot(x=y_train_res)\n",
        "plt.title(\"Class Distribution After SMOTE\")\n",
        "plt.show()\n"
      ],
      "metadata": {
        "colab": {
          "base_uri": "https://localhost:8080/",
          "height": 964
        },
        "id": "ltnu_6aAjqe0",
        "outputId": "66b3d98c-3815-4bed-e8d2-b8e674a5af1d"
      },
      "execution_count": 21,
      "outputs": [
        {
          "output_type": "stream",
          "name": "stdout",
          "text": [
            "Class distribution before SMOTE: Counter({'positive': 781, 'neutral': 99, 'negative': 61})\n"
          ]
        },
        {
          "output_type": "display_data",
          "data": {
            "text/plain": [
              "<Figure size 640x480 with 1 Axes>"
            ],
            "image/png": "[encoded data removed]"
          },
          "metadata": {}
        },
        {
          "output_type": "stream",
          "name": "stdout",
          "text": [
            "Class distribution after SMOTE: Counter({'positive': 781, 'negative': 781, 'neutral': 781})\n"
          ]
        },
        {
          "output_type": "display_data",
          "data": {
            "text/plain": [
              "<Figure size 640x480 with 1 Axes>"
            ],
            "image/png": "[encoded data removed]"
          },
          "metadata": {}
        }
      ]
    },
    {
      "cell_type": "markdown",
      "source": [
        "### Training Logistic Regression on Resampled Data\n",
        "\n",
        "We train a **Logistic Regression classifier** on the balanced dataset obtained after SMOTE.  \n",
        "\n",
        "- **`class_weight='balanced'`** is kept, so even with oversampling, the model still adjusts weights inversely proportional to class frequency.  \n",
        "- **`max_iter=1000`** ensures convergence during training.  \n",
        "- **`random_state=42`** makes results reproducible.  \n",
        "\n",
        "By combining **SMOTE + class-weighted Logistic Regression**, we aim to improve prediction quality, especially for **minority classes** (neutral and negative).\n"
      ],
      "metadata": {
        "id": "8vC8R-b7FrIl"
      }
    },
    {
      "cell_type": "code",
      "source": [
        "model = LogisticRegression(class_weight='balanced', max_iter=1000, random_state=42)\n",
        "model.fit(X_train_res, y_train_res)\n"
      ],
      "metadata": {
        "colab": {
          "base_uri": "https://localhost:8080/",
          "height": 80
        },
        "id": "30TKzSnw89RA",
        "outputId": "7430c1fb-a60a-43f2-e37b-3fdef0208edb"
      },
      "execution_count": 12,
      "outputs": [
        {
          "output_type": "execute_result",
          "data": {
            "text/plain": [
              "LogisticRegression(class_weight='balanced', max_iter=1000, random_state=42)"
            ],
            "text/html": [
              "<style>#sk-container-id-1 {\n",
              "  /* Definition of color scheme common for light and dark mode */\n",
              "  --sklearn-color-text: #000;\n",
              "  --sklearn-color-text-muted: #666;\n",
              "  --sklearn-color-line: gray;\n",
              "  /* Definition of color scheme for unfitted estimators */\n",
              "  --sklearn-color-unfitted-level-0: #fff5e6;\n",
              "  --sklearn-color-unfitted-level-1: #f6e4d2;\n",
              "  --sklearn-color-unfitted-level-2: #ffe0b3;\n",
              "  --sklearn-color-unfitted-level-3: chocolate;\n",
              "  /* Definition of color scheme for fitted estimators */\n",
              "  --sklearn-color-fitted-level-0: #f0f8ff;\n",
              "  --sklearn-color-fitted-level-1: #d4ebff;\n",
              "  --sklearn-color-fitted-level-2: #b3dbfd;\n",
              "  --sklearn-color-fitted-level-3: cornflowerblue;\n",
              "\n",
              "  /* Specific color for light theme */\n",
              "  --sklearn-color-text-on-default-background: var(--sg-text-color, var(--theme-code-foreground, var(--jp-content-font-color1, black)));\n",
              "  --sklearn-color-background: var(--sg-background-color, var(--theme-background, var(--jp-layout-color0, white)));\n",
              "  --sklearn-color-border-box: var(--sg-text-color, var(--theme-code-foreground, var(--jp-content-font-color1, black)));\n",
              "  --sklearn-color-icon: #696969;\n",
              "\n",
              "  @media (prefers-color-scheme: dark) {\n",
              "    /* Redefinition of color scheme for dark theme */\n",
              "    --sklearn-color-text-on-default-background: var(--sg-text-color, var(--theme-code-foreground, var(--jp-content-font-color1, white)));\n",
              "    --sklearn-color-background: var(--sg-background-color, var(--theme-background, var(--jp-layout-color0, #111)));\n",
              "    --sklearn-color-border-box: var(--sg-text-color, var(--theme-code-foreground, var(--jp-content-font-color1, white)));\n",
              "    --sklearn-color-icon: #878787;\n",
              "  }\n",
              "}\n",
              "\n",
              "#sk-container-id-1 {\n",
              "  color: var(--sklearn-color-text);\n",
              "}\n",
              "\n",
              "#sk-container-id-1 pre {\n",
              "  padding: 0;\n",
              "}\n",
              "\n",
              "#sk-container-id-1 input.sk-hidden--visually {\n",
              "  border: 0;\n",
              "  clip: rect(1px 1px 1px 1px);\n",
              "  clip: rect(1px, 1px, 1px, 1px);\n",
              "  height: 1px;\n",
              "  margin: -1px;\n",
              "  overflow: hidden;\n",
              "  padding: 0;\n",
              "  position: absolute;\n",
              "  width: 1px;\n",
              "}\n",
              "\n",
              "#sk-container-id-1 div.sk-dashed-wrapped {\n",
              "  border: 1px dashed var(--sklearn-color-line);\n",
              "  margin: 0 0.4em 0.5em 0.4em;\n",
              "  box-sizing: border-box;\n",
              "  padding-bottom: 0.4em;\n",
              "  background-color: var(--sklearn-color-background);\n",
              "}\n",
              "\n",
              "#sk-container-id-1 div.sk-container {\n",
              "  /* jupyter's `normalize.less` sets `[hidden] { display: none; }`\n",
              "     but bootstrap.min.css set `[hidden] { display: none !important; }`\n",
              "     so we also need the `!important` here to be able to override the\n",
              "     default hidden behavior on the sphinx rendered scikit-learn.org.\n",
              "     See: https://github.com/scikit-learn/scikit-learn/issues/21755 */\n",
              "  display: inline-block !important;\n",
              "  position: relative;\n",
              "}\n",
              "\n",
              "#sk-container-id-1 div.sk-text-repr-fallback {\n",
              "  display: none;\n",
              "}\n",
              "\n",
              "div.sk-parallel-item,\n",
              "div.sk-serial,\n",
              "div.sk-item {\n",
              "  /* draw centered vertical line to link estimators */\n",
              "  background-image: linear-gradient(var(--sklearn-color-text-on-default-background), var(--sklearn-color-text-on-default-background));\n",
              "  background-size: 2px 100%;\n",
              "  background-repeat: no-repeat;\n",
              "  background-position: center center;\n",
              "}\n",
              "\n",
              "/* Parallel-specific style estimator block */\n",
              "\n",
              "#sk-container-id-1 div.sk-parallel-item::after {\n",
              "  content: \"\";\n",
              "  width: 100%;\n",
              "  border-bottom: 2px solid var(--sklearn-color-text-on-default-background);\n",
              "  flex-grow: 1;\n",
              "}\n",
              "\n",
              "#sk-container-id-1 div.sk-parallel {\n",
              "  display: flex;\n",
              "  align-items: stretch;\n",
              "  justify-content: center;\n",
              "  background-color: var(--sklearn-color-background);\n",
              "  position: relative;\n",
              "}\n",
              "\n",
              "#sk-container-id-1 div.sk-parallel-item {\n",
              "  display: flex;\n",
              "  flex-direction: column;\n",
              "}\n",
              "\n",
              "#sk-container-id-1 div.sk-parallel-item:first-child::after {\n",
              "  align-self: flex-end;\n",
              "  width: 50%;\n",
              "}\n",
              "\n",
              "#sk-container-id-1 div.sk-parallel-item:last-child::after {\n",
              "  align-self: flex-start;\n",
              "  width: 50%;\n",
              "}\n",
              "\n",
              "#sk-container-id-1 div.sk-parallel-item:only-child::after {\n",
              "  width: 0;\n",
              "}\n",
              "\n",
              "/* Serial-specific style estimator block */\n",
              "\n",
              "#sk-container-id-1 div.sk-serial {\n",
              "  display: flex;\n",
              "  flex-direction: column;\n",
              "  align-items: center;\n",
              "  background-color: var(--sklearn-color-background);\n",
              "  padding-right: 1em;\n",
              "  padding-left: 1em;\n",
              "}\n",
              "\n",
              "\n",
              "/* Toggleable style: style used for estimator/Pipeline/ColumnTransformer box that is\n",
              "clickable and can be expanded/collapsed.\n",
              "- Pipeline and ColumnTransformer use this feature and define the default style\n",
              "- Estimators will overwrite some part of the style using the `sk-estimator` class\n",
              "*/\n",
              "\n",
              "/* Pipeline and ColumnTransformer style (default) */\n",
              "\n",
              "#sk-container-id-1 div.sk-toggleable {\n",
              "  /* Default theme specific background. It is overwritten whether we have a\n",
              "  specific estimator or a Pipeline/ColumnTransformer */\n",
              "  background-color: var(--sklearn-color-background);\n",
              "}\n",
              "\n",
              "/* Toggleable label */\n",
              "#sk-container-id-1 label.sk-toggleable__label {\n",
              "  cursor: pointer;\n",
              "  display: flex;\n",
              "  width: 100%;\n",
              "  margin-bottom: 0;\n",
              "  padding: 0.5em;\n",
              "  box-sizing: border-box;\n",
              "  text-align: center;\n",
              "  align-items: start;\n",
              "  justify-content: space-between;\n",
              "  gap: 0.5em;\n",
              "}\n",
              "\n",
              "#sk-container-id-1 label.sk-toggleable__label .caption {\n",
              "  font-size: 0.6rem;\n",
              "  font-weight: lighter;\n",
              "  color: var(--sklearn-color-text-muted);\n",
              "}\n",
              "\n",
              "#sk-container-id-1 label.sk-toggleable__label-arrow:before {\n",
              "  /* Arrow on the left of the label */\n",
              "  content: \"▸\";\n",
              "  float: left;\n",
              "  margin-right: 0.25em;\n",
              "  color: var(--sklearn-color-icon);\n",
              "}\n",
              "\n",
              "#sk-container-id-1 label.sk-toggleable__label-arrow:hover:before {\n",
              "  color: var(--sklearn-color-text);\n",
              "}\n",
              "\n",
              "/* Toggleable content - dropdown */\n",
              "\n",
              "#sk-container-id-1 div.sk-toggleable__content {\n",
              "  max-height: 0;\n",
              "  max-width: 0;\n",
              "  overflow: hidden;\n",
              "  text-align: left;\n",
              "  /* unfitted */\n",
              "  background-color: var(--sklearn-color-unfitted-level-0);\n",
              "}\n",
              "\n",
              "#sk-container-id-1 div.sk-toggleable__content.fitted {\n",
              "  /* fitted */\n",
              "  background-color: var(--sklearn-color-fitted-level-0);\n",
              "}\n",
              "\n",
              "#sk-container-id-1 div.sk-toggleable__content pre {\n",
              "  margin: 0.2em;\n",
              "  border-radius: 0.25em;\n",
              "  color: var(--sklearn-color-text);\n",
              "  /* unfitted */\n",
              "  background-color: var(--sklearn-color-unfitted-level-0);\n",
              "}\n",
              "\n",
              "#sk-container-id-1 div.sk-toggleable__content.fitted pre {\n",
              "  /* unfitted */\n",
              "  background-color: var(--sklearn-color-fitted-level-0);\n",
              "}\n",
              "\n",
              "#sk-container-id-1 input.sk-toggleable__control:checked~div.sk-toggleable__content {\n",
              "  /* Expand drop-down */\n",
              "  max-height: 200px;\n",
              "  max-width: 100%;\n",
              "  overflow: auto;\n",
              "}\n",
              "\n",
              "#sk-container-id-1 input.sk-toggleable__control:checked~label.sk-toggleable__label-arrow:before {\n",
              "  content: \"▾\";\n",
              "}\n",
              "\n",
              "/* Pipeline/ColumnTransformer-specific style */\n",
              "\n",
              "#sk-container-id-1 div.sk-label input.sk-toggleable__control:checked~label.sk-toggleable__label {\n",
              "  color: var(--sklearn-color-text);\n",
              "  background-color: var(--sklearn-color-unfitted-level-2);\n",
              "}\n",
              "\n",
              "#sk-container-id-1 div.sk-label.fitted input.sk-toggleable__control:checked~label.sk-toggleable__label {\n",
              "  background-color: var(--sklearn-color-fitted-level-2);\n",
              "}\n",
              "\n",
              "/* Estimator-specific style */\n",
              "\n",
              "/* Colorize estimator box */\n",
              "#sk-container-id-1 div.sk-estimator input.sk-toggleable__control:checked~label.sk-toggleable__label {\n",
              "  /* unfitted */\n",
              "  background-color: var(--sklearn-color-unfitted-level-2);\n",
              "}\n",
              "\n",
              "#sk-container-id-1 div.sk-estimator.fitted input.sk-toggleable__control:checked~label.sk-toggleable__label {\n",
              "  /* fitted */\n",
              "  background-color: var(--sklearn-color-fitted-level-2);\n",
              "}\n",
              "\n",
              "#sk-container-id-1 div.sk-label label.sk-toggleable__label,\n",
              "#sk-container-id-1 div.sk-label label {\n",
              "  /* The background is the default theme color */\n",
              "  color: var(--sklearn-color-text-on-default-background);\n",
              "}\n",
              "\n",
              "/* On hover, darken the color of the background */\n",
              "#sk-container-id-1 div.sk-label:hover label.sk-toggleable__label {\n",
              "  color: var(--sklearn-color-text);\n",
              "  background-color: var(--sklearn-color-unfitted-level-2);\n",
              "}\n",
              "\n",
              "/* Label box, darken color on hover, fitted */\n",
              "#sk-container-id-1 div.sk-label.fitted:hover label.sk-toggleable__label.fitted {\n",
              "  color: var(--sklearn-color-text);\n",
              "  background-color: var(--sklearn-color-fitted-level-2);\n",
              "}\n",
              "\n",
              "/* Estimator label */\n",
              "\n",
              "#sk-container-id-1 div.sk-label label {\n",
              "  font-family: monospace;\n",
              "  font-weight: bold;\n",
              "  display: inline-block;\n",
              "  line-height: 1.2em;\n",
              "}\n",
              "\n",
              "#sk-container-id-1 div.sk-label-container {\n",
              "  text-align: center;\n",
              "}\n",
              "\n",
              "/* Estimator-specific */\n",
              "#sk-container-id-1 div.sk-estimator {\n",
              "  font-family: monospace;\n",
              "  border: 1px dotted var(--sklearn-color-border-box);\n",
              "  border-radius: 0.25em;\n",
              "  box-sizing: border-box;\n",
              "  margin-bottom: 0.5em;\n",
              "  /* unfitted */\n",
              "  background-color: var(--sklearn-color-unfitted-level-0);\n",
              "}\n",
              "\n",
              "#sk-container-id-1 div.sk-estimator.fitted {\n",
              "  /* fitted */\n",
              "  background-color: var(--sklearn-color-fitted-level-0);\n",
              "}\n",
              "\n",
              "/* on hover */\n",
              "#sk-container-id-1 div.sk-estimator:hover {\n",
              "  /* unfitted */\n",
              "  background-color: var(--sklearn-color-unfitted-level-2);\n",
              "}\n",
              "\n",
              "#sk-container-id-1 div.sk-estimator.fitted:hover {\n",
              "  /* fitted */\n",
              "  background-color: var(--sklearn-color-fitted-level-2);\n",
              "}\n",
              "\n",
              "/* Specification for estimator info (e.g. \"i\" and \"?\") */\n",
              "\n",
              "/* Common style for \"i\" and \"?\" */\n",
              "\n",
              ".sk-estimator-doc-link,\n",
              "a:link.sk-estimator-doc-link,\n",
              "a:visited.sk-estimator-doc-link {\n",
              "  float: right;\n",
              "  font-size: smaller;\n",
              "  line-height: 1em;\n",
              "  font-family: monospace;\n",
              "  background-color: var(--sklearn-color-background);\n",
              "  border-radius: 1em;\n",
              "  height: 1em;\n",
              "  width: 1em;\n",
              "  text-decoration: none !important;\n",
              "  margin-left: 0.5em;\n",
              "  text-align: center;\n",
              "  /* unfitted */\n",
              "  border: var(--sklearn-color-unfitted-level-1) 1pt solid;\n",
              "  color: var(--sklearn-color-unfitted-level-1);\n",
              "}\n",
              "\n",
              ".sk-estimator-doc-link.fitted,\n",
              "a:link.sk-estimator-doc-link.fitted,\n",
              "a:visited.sk-estimator-doc-link.fitted {\n",
              "  /* fitted */\n",
              "  border: var(--sklearn-color-fitted-level-1) 1pt solid;\n",
              "  color: var(--sklearn-color-fitted-level-1);\n",
              "}\n",
              "\n",
              "/* On hover */\n",
              "div.sk-estimator:hover .sk-estimator-doc-link:hover,\n",
              ".sk-estimator-doc-link:hover,\n",
              "div.sk-label-container:hover .sk-estimator-doc-link:hover,\n",
              ".sk-estimator-doc-link:hover {\n",
              "  /* unfitted */\n",
              "  background-color: var(--sklearn-color-unfitted-level-3);\n",
              "  color: var(--sklearn-color-background);\n",
              "  text-decoration: none;\n",
              "}\n",
              "\n",
              "div.sk-estimator.fitted:hover .sk-estimator-doc-link.fitted:hover,\n",
              ".sk-estimator-doc-link.fitted:hover,\n",
              "div.sk-label-container:hover .sk-estimator-doc-link.fitted:hover,\n",
              ".sk-estimator-doc-link.fitted:hover {\n",
              "  /* fitted */\n",
              "  background-color: var(--sklearn-color-fitted-level-3);\n",
              "  color: var(--sklearn-color-background);\n",
              "  text-decoration: none;\n",
              "}\n",
              "\n",
              "/* Span, style for the box shown on hovering the info icon */\n",
              ".sk-estimator-doc-link span {\n",
              "  display: none;\n",
              "  z-index: 9999;\n",
              "  position: relative;\n",
              "  font-weight: normal;\n",
              "  right: .2ex;\n",
              "  padding: .5ex;\n",
              "  margin: .5ex;\n",
              "  width: min-content;\n",
              "  min-width: 20ex;\n",
              "  max-width: 50ex;\n",
              "  color: var(--sklearn-color-text);\n",
              "  box-shadow: 2pt 2pt 4pt #999;\n",
              "  /* unfitted */\n",
              "  background: var(--sklearn-color-unfitted-level-0);\n",
              "  border: .5pt solid var(--sklearn-color-unfitted-level-3);\n",
              "}\n",
              "\n",
              ".sk-estimator-doc-link.fitted span {\n",
              "  /* fitted */\n",
              "  background: var(--sklearn-color-fitted-level-0);\n",
              "  border: var(--sklearn-color-fitted-level-3);\n",
              "}\n",
              "\n",
              ".sk-estimator-doc-link:hover span {\n",
              "  display: block;\n",
              "}\n",
              "\n",
              "/* \"?\"-specific style due to the `<a>` HTML tag */\n",
              "\n",
              "#sk-container-id-1 a.estimator_doc_link {\n",
              "  float: right;\n",
              "  font-size: 1rem;\n",
              "  line-height: 1em;\n",
              "  font-family: monospace;\n",
              "  background-color: var(--sklearn-color-background);\n",
              "  border-radius: 1rem;\n",
              "  height: 1rem;\n",
              "  width: 1rem;\n",
              "  text-decoration: none;\n",
              "  /* unfitted */\n",
              "  color: var(--sklearn-color-unfitted-level-1);\n",
              "  border: var(--sklearn-color-unfitted-level-1) 1pt solid;\n",
              "}\n",
              "\n",
              "#sk-container-id-1 a.estimator_doc_link.fitted {\n",
              "  /* fitted */\n",
              "  border: var(--sklearn-color-fitted-level-1) 1pt solid;\n",
              "  color: var(--sklearn-color-fitted-level-1);\n",
              "}\n",
              "\n",
              "/* On hover */\n",
              "#sk-container-id-1 a.estimator_doc_link:hover {\n",
              "  /* unfitted */\n",
              "  background-color: var(--sklearn-color-unfitted-level-3);\n",
              "  color: var(--sklearn-color-background);\n",
              "  text-decoration: none;\n",
              "}\n",
              "\n",
              "#sk-container-id-1 a.estimator_doc_link.fitted:hover {\n",
              "  /* fitted */\n",
              "  background-color: var(--sklearn-color-fitted-level-3);\n",
              "}\n",
              "</style><div id=\"sk-container-id-1\" class=\"sk-top-container\"><div class=\"sk-text-repr-fallback\"><pre>LogisticRegression(class_weight=&#x27;balanced&#x27;, max_iter=1000, random_state=42)</pre><b>In a Jupyter environment, please rerun this cell to show the HTML representation or trust the notebook. <br />On GitHub, the HTML representation is unable to render, please try loading this page with nbviewer.org.</b></div><div class=\"sk-container\" hidden><div class=\"sk-item\"><div class=\"sk-estimator fitted sk-toggleable\"><input class=\"sk-toggleable__control sk-hidden--visually\" id=\"sk-estimator-id-1\" type=\"checkbox\" checked><label for=\"sk-estimator-id-1\" class=\"sk-toggleable__label fitted sk-toggleable__label-arrow\"><div><div>LogisticRegression</div></div><div><a class=\"sk-estimator-doc-link fitted\" rel=\"noreferrer\" target=\"_blank\" href=\"https://scikit-learn.org/1.6/modules/generated/sklearn.linear_model.LogisticRegression.html\">?<span>Documentation for LogisticRegression</span></a><span class=\"sk-estimator-doc-link fitted\">i<span>Fitted</span></span></div></label><div class=\"sk-toggleable__content fitted\"><pre>LogisticRegression(class_weight=&#x27;balanced&#x27;, max_iter=1000, random_state=42)</pre></div> </div></div></div></div>"
            ]
          },
          "metadata": {},
          "execution_count": 12
        }
      ]
    },
    {
      "cell_type": "markdown",
      "source": [
        "##  Model Evaluation and Visualization\n",
        "\n",
        "We evaluate the model's predictions on the test set using:\n",
        "\n",
        "- **Classification report** → precision, recall, and F1-score for each sentiment class.\n",
        "- **Confusion matrix** → shows correct vs. incorrect predictions.\n",
        "- **Seaborn heatmap** → visual representation of the confusion matrix for easier interpretation.\n",
        "\n",
        "These metrics help assess the model’s performance and identify areas for improvement.\n"
      ],
      "metadata": {
        "id": "xzSAx731mI4Q"
      }
    },
    {
      "cell_type": "code",
      "source": [
        "y_pred_lr = model.predict(X_test_vec)\n",
        "print(\"Logistic Regression Performance:\")\n",
        "print(classification_report(y_test, y_pred_lr))\n",
        "cm = confusion_matrix(y_test, y_pred_lr, labels=[\"positive\", \"neutral\", \"negative\"])\n",
        "sns.heatmap(cm, annot=True, fmt='d', cmap='Blues', xticklabels=[\"positive\", \"neutral\", \"negative\"], yticklabels=[\"positive\", \"neutral\", \"negative\"])\n",
        "plt.xlabel(\"Predicted\")\n",
        "plt.ylabel(\"Actual\")\n",
        "plt.title('confusion matrix')\n",
        "plt.show()"
      ],
      "metadata": {
        "colab": {
          "base_uri": "https://localhost:8080/",
          "height": 675
        },
        "id": "kzHL3j1D-kcW",
        "outputId": "91b182ae-b7e2-4b55-9cbd-b84d2c089dbe"
      },
      "execution_count": 13,
      "outputs": [
        {
          "output_type": "stream",
          "name": "stdout",
          "text": [
            "Logistic Regression Performance:\n",
            "              precision    recall  f1-score   support\n",
            "\n",
            "    negative       0.44      0.53      0.48        15\n",
            "     neutral       0.84      0.64      0.73        25\n",
            "    positive       0.94      0.96      0.95       196\n",
            "\n",
            "    accuracy                           0.90       236\n",
            "   macro avg       0.74      0.71      0.72       236\n",
            "weighted avg       0.90      0.90      0.90       236\n",
            "\n"
          ]
        },
        {
          "output_type": "display_data",
          "data": {
            "text/plain": [
              "<Figure size 640x480 with 2 Axes>"
            ],
            "image/png": "[encoded data removed]"
          },
          "metadata": {}
        }
      ]
    },
    {
      "cell_type": "markdown",
      "source": [
        "### Logistic Regression Results\n",
        "\n",
        "- **Precision**: How many predicted positives are actually positive.  \n",
        "- **Recall**: How many actual positives were correctly identified.  \n",
        "- **F1-score**: Harmonic mean of precision and recall, balances both.  \n",
        "\n",
        "From the report:\n",
        "- **Positive reviews** achieve very high performance (Precision ≈ 0.94, Recall ≈ 0.96).  \n",
        "- **Neutral reviews** are harder to classify (Recall ≈ 0.64).  \n",
        "- **Negative reviews** are the most difficult, with lower scores due to class imbalance.  \n",
        "\n",
        " The model is good at predicting **positive sentiment**, but struggles with **neutral and negative**, which matches the imbalance in the dataset.\n",
        "\n",
        " ### Confusion Matrix Analysis\n",
        "\n",
        "The confusion matrix shows where the model makes mistakes:\n",
        "\n",
        "- Most **positive reviews** are predicted correctly.  \n",
        "- Many **negative and neutral reviews** are misclassified as positive.  \n",
        "- This confirms that the model is biased towards predicting \"positive\" sentiment.  \n",
        "\n"
      ],
      "metadata": {
        "id": "KCw9Fc5JIOiJ"
      }
    },
    {
      "cell_type": "markdown",
      "source": [
        "##  Hyperparameter Tuning (GridSearchCV)\n",
        "\n",
        "To improve performance, we use **GridSearchCV**:\n",
        "- Tests different parameter combinations (TF-IDF settings, Logistic Regression parameters)\n",
        "- Uses cross-validation to avoid overfitting\n",
        "- Selects the best combination automatically\n",
        "\n",
        "We then retrain the model with the best parameters and re-evaluate.\n"
      ],
      "metadata": {
        "id": "2XgpwZh8-PzD"
      }
    },
    {
      "cell_type": "markdown",
      "source": [
        "#### 1) Define an end-to-end Pipeline\n",
        "\n",
        "We build a leak-safe pipeline:\n",
        "\n",
        "- **`TfidfVectorizer()`** converts raw text into weighted token features.\n",
        "- **`LogisticRegression(class_weight='balanced', max_iter=1000)`** helps counter class imbalance by up-weighting minority classes.\n",
        "\n",
        "> Using a Pipeline means we can tune TF-IDF options and Logistic Regression hyperparameters **together**.\n"
      ],
      "metadata": {
        "id": "YCVOivxmCHin"
      }
    },
    {
      "cell_type": "code",
      "source": [
        "# 1. Define pipeline: TF-IDF + Logistic Regression\n",
        "pipe = Pipeline([\n",
        "    ('tfidf', TfidfVectorizer()),\n",
        "    ('smote', SMOTE(sampling_strategy='not majority', random_state=42)),\n",
        "    ('logreg', LogisticRegression(class_weight='balanced', max_iter=1000))\n",
        "])\n",
        "\n"
      ],
      "metadata": {
        "id": "UGmZOAYZNIxM"
      },
      "execution_count": 14,
      "outputs": []
    },
    {
      "cell_type": "markdown",
      "source": [
        "#### 2) Set the Parameter Grid\n",
        "\n",
        "We search across TF-IDF and Logistic Regression hyperparameters:\n",
        "\n",
        "\n",
        "**tfidf__ngram_range**  ---> Try unigrams only vs. adding bigrams/trigrams to capture short phrases.\n",
        "\n",
        "**tfidf__max_features** ---> Control vocabulary size to balance expressiveness vs. overfitting/time.\n",
        "\n",
        "**logreg__C** ---> Regularization strength (smaller = stronger regularization). |\n",
        "**logreg__solver** --->'liblinear, saga` :  Robust solvers for sparse text;  `saga` scales better, `liblinear` is strong for smaller problems. |\n"
      ],
      "metadata": {
        "id": "ulmY_9C6CQjs"
      }
    },
    {
      "cell_type": "code",
      "source": [
        "# 2. Define parameter grid (we can tune TF-IDF and LR together!)\n",
        "param_grid = {\n",
        "    'tfidf__ngram_range': [(1,1), (1,2), (1,3)],  # unigrams, bigrams, trigrams\n",
        "    'tfidf__max_features': [5000, 10000],         # vocab size\n",
        "    'logreg__C': [0.01, 0.1, 1, 10],\n",
        "    'logreg__solver': ['liblinear', 'saga']\n",
        "}\n",
        "\n",
        "\n"
      ],
      "metadata": {
        "id": "EVg2gaImBFdx"
      },
      "execution_count": 15,
      "outputs": []
    },
    {
      "cell_type": "markdown",
      "source": [
        "#### 3) Configure GridSearchCV\n",
        "\n",
        "- **`scoring='f1_macro'`**: treats all classes equally (important under imbalance).\n",
        "- **`cv=5`**: 5-fold cross-validation for a stable estimate.\n",
        "- **`n_jobs=-1`**: use all CPU cores for speed.\n",
        "- **`verbose=2`**: print progress to monitor long searches.\n",
        "\n",
        "This setup selects the combination that **maximizes macro-averaged F1** over the CV folds.\n"
      ],
      "metadata": {
        "id": "sPAfR5c1Dasn"
      }
    },
    {
      "cell_type": "code",
      "source": [
        "# 3. GridSearchCV\n",
        "grid = GridSearchCV(\n",
        "    estimator=pipe,\n",
        "    param_grid=param_grid,\n",
        "    scoring='f1_macro',\n",
        "    cv=5,\n",
        "    n_jobs=-1,\n",
        "    verbose=2)\n"
      ],
      "metadata": {
        "id": "quezMsTcDYHf"
      },
      "execution_count": 16,
      "outputs": []
    },
    {
      "cell_type": "markdown",
      "source": [
        "#### 4) Fit on raw training text\n",
        "\n"
      ],
      "metadata": {
        "id": "eXGfSUshDrFe"
      }
    },
    {
      "cell_type": "code",
      "source": [
        "grid.fit(X_train, y_train)\n"
      ],
      "metadata": {
        "colab": {
          "base_uri": "https://localhost:8080/",
          "height": 249
        },
        "id": "P1ynkfM9DqAe",
        "outputId": "40d0dfc3-b757-4d49-a5ac-ba1c15268431"
      },
      "execution_count": 17,
      "outputs": [
        {
          "output_type": "stream",
          "name": "stdout",
          "text": [
            "Fitting 5 folds for each of 48 candidates, totalling 240 fits\n"
          ]
        },
        {
          "output_type": "execute_result",
          "data": {
            "text/plain": [
              "GridSearchCV(cv=5,\n",
              "             estimator=Pipeline(steps=[('tfidf', TfidfVectorizer()),\n",
              "                                       ('smote',\n",
              "                                        SMOTE(random_state=42,\n",
              "                                              sampling_strategy='not '\n",
              "                                                                'majority')),\n",
              "                                       ('logreg',\n",
              "                                        LogisticRegression(class_weight='balanced',\n",
              "                                                           max_iter=1000))]),\n",
              "             n_jobs=-1,\n",
              "             param_grid={'logreg__C': [0.01, 0.1, 1, 10],\n",
              "                         'logreg__solver': ['liblinear', 'saga'],\n",
              "                         'tfidf__max_features': [5000, 10000],\n",
              "                         'tfidf__ngram_range': [(1, 1), (1, 2), (1, 3)]},\n",
              "             scoring='f1_macro', verbose=2)"
            ],
            "text/html": [
              "<style>#sk-container-id-2 {\n",
              "  /* Definition of color scheme common for light and dark mode */\n",
              "  --sklearn-color-text: #000;\n",
              "  --sklearn-color-text-muted: #666;\n",
              "  --sklearn-color-line: gray;\n",
              "  /* Definition of color scheme for unfitted estimators */\n",
              "  --sklearn-color-unfitted-level-0: #fff5e6;\n",
              "  --sklearn-color-unfitted-level-1: #f6e4d2;\n",
              "  --sklearn-color-unfitted-level-2: #ffe0b3;\n",
              "  --sklearn-color-unfitted-level-3: chocolate;\n",
              "  /* Definition of color scheme for fitted estimators */\n",
              "  --sklearn-color-fitted-level-0: #f0f8ff;\n",
              "  --sklearn-color-fitted-level-1: #d4ebff;\n",
              "  --sklearn-color-fitted-level-2: #b3dbfd;\n",
              "  --sklearn-color-fitted-level-3: cornflowerblue;\n",
              "\n",
              "  /* Specific color for light theme */\n",
              "  --sklearn-color-text-on-default-background: var(--sg-text-color, var(--theme-code-foreground, var(--jp-content-font-color1, black)));\n",
              "  --sklearn-color-background: var(--sg-background-color, var(--theme-background, var(--jp-layout-color0, white)));\n",
              "  --sklearn-color-border-box: var(--sg-text-color, var(--theme-code-foreground, var(--jp-content-font-color1, black)));\n",
              "  --sklearn-color-icon: #696969;\n",
              "\n",
              "  @media (prefers-color-scheme: dark) {\n",
              "    /* Redefinition of color scheme for dark theme */\n",
              "    --sklearn-color-text-on-default-background: var(--sg-text-color, var(--theme-code-foreground, var(--jp-content-font-color1, white)));\n",
              "    --sklearn-color-background: var(--sg-background-color, var(--theme-background, var(--jp-layout-color0, #111)));\n",
              "    --sklearn-color-border-box: var(--sg-text-color, var(--theme-code-foreground, var(--jp-content-font-color1, white)));\n",
              "    --sklearn-color-icon: #878787;\n",
              "  }\n",
              "}\n",
              "\n",
              "#sk-container-id-2 {\n",
              "  color: var(--sklearn-color-text);\n",
              "}\n",
              "\n",
              "#sk-container-id-2 pre {\n",
              "  padding: 0;\n",
              "}\n",
              "\n",
              "#sk-container-id-2 input.sk-hidden--visually {\n",
              "  border: 0;\n",
              "  clip: rect(1px 1px 1px 1px);\n",
              "  clip: rect(1px, 1px, 1px, 1px);\n",
              "  height: 1px;\n",
              "  margin: -1px;\n",
              "  overflow: hidden;\n",
              "  padding: 0;\n",
              "  position: absolute;\n",
              "  width: 1px;\n",
              "}\n",
              "\n",
              "#sk-container-id-2 div.sk-dashed-wrapped {\n",
              "  border: 1px dashed var(--sklearn-color-line);\n",
              "  margin: 0 0.4em 0.5em 0.4em;\n",
              "  box-sizing: border-box;\n",
              "  padding-bottom: 0.4em;\n",
              "  background-color: var(--sklearn-color-background);\n",
              "}\n",
              "\n",
              "#sk-container-id-2 div.sk-container {\n",
              "  /* jupyter's `normalize.less` sets `[hidden] { display: none; }`\n",
              "     but bootstrap.min.css set `[hidden] { display: none !important; }`\n",
              "     so we also need the `!important` here to be able to override the\n",
              "     default hidden behavior on the sphinx rendered scikit-learn.org.\n",
              "     See: https://github.com/scikit-learn/scikit-learn/issues/21755 */\n",
              "  display: inline-block !important;\n",
              "  position: relative;\n",
              "}\n",
              "\n",
              "#sk-container-id-2 div.sk-text-repr-fallback {\n",
              "  display: none;\n",
              "}\n",
              "\n",
              "div.sk-parallel-item,\n",
              "div.sk-serial,\n",
              "div.sk-item {\n",
              "  /* draw centered vertical line to link estimators */\n",
              "  background-image: linear-gradient(var(--sklearn-color-text-on-default-background), var(--sklearn-color-text-on-default-background));\n",
              "  background-size: 2px 100%;\n",
              "  background-repeat: no-repeat;\n",
              "  background-position: center center;\n",
              "}\n",
              "\n",
              "/* Parallel-specific style estimator block */\n",
              "\n",
              "#sk-container-id-2 div.sk-parallel-item::after {\n",
              "  content: \"\";\n",
              "  width: 100%;\n",
              "  border-bottom: 2px solid var(--sklearn-color-text-on-default-background);\n",
              "  flex-grow: 1;\n",
              "}\n",
              "\n",
              "#sk-container-id-2 div.sk-parallel {\n",
              "  display: flex;\n",
              "  align-items: stretch;\n",
              "  justify-content: center;\n",
              "  background-color: var(--sklearn-color-background);\n",
              "  position: relative;\n",
              "}\n",
              "\n",
              "#sk-container-id-2 div.sk-parallel-item {\n",
              "  display: flex;\n",
              "  flex-direction: column;\n",
              "}\n",
              "\n",
              "#sk-container-id-2 div.sk-parallel-item:first-child::after {\n",
              "  align-self: flex-end;\n",
              "  width: 50%;\n",
              "}\n",
              "\n",
              "#sk-container-id-2 div.sk-parallel-item:last-child::after {\n",
              "  align-self: flex-start;\n",
              "  width: 50%;\n",
              "}\n",
              "\n",
              "#sk-container-id-2 div.sk-parallel-item:only-child::after {\n",
              "  width: 0;\n",
              "}\n",
              "\n",
              "/* Serial-specific style estimator block */\n",
              "\n",
              "#sk-container-id-2 div.sk-serial {\n",
              "  display: flex;\n",
              "  flex-direction: column;\n",
              "  align-items: center;\n",
              "  background-color: var(--sklearn-color-background);\n",
              "  padding-right: 1em;\n",
              "  padding-left: 1em;\n",
              "}\n",
              "\n",
              "\n",
              "/* Toggleable style: style used for estimator/Pipeline/ColumnTransformer box that is\n",
              "clickable and can be expanded/collapsed.\n",
              "- Pipeline and ColumnTransformer use this feature and define the default style\n",
              "- Estimators will overwrite some part of the style using the `sk-estimator` class\n",
              "*/\n",
              "\n",
              "/* Pipeline and ColumnTransformer style (default) */\n",
              "\n",
              "#sk-container-id-2 div.sk-toggleable {\n",
              "  /* Default theme specific background. It is overwritten whether we have a\n",
              "  specific estimator or a Pipeline/ColumnTransformer */\n",
              "  background-color: var(--sklearn-color-background);\n",
              "}\n",
              "\n",
              "/* Toggleable label */\n",
              "#sk-container-id-2 label.sk-toggleable__label {\n",
              "  cursor: pointer;\n",
              "  display: flex;\n",
              "  width: 100%;\n",
              "  margin-bottom: 0;\n",
              "  padding: 0.5em;\n",
              "  box-sizing: border-box;\n",
              "  text-align: center;\n",
              "  align-items: start;\n",
              "  justify-content: space-between;\n",
              "  gap: 0.5em;\n",
              "}\n",
              "\n",
              "#sk-container-id-2 label.sk-toggleable__label .caption {\n",
              "  font-size: 0.6rem;\n",
              "  font-weight: lighter;\n",
              "  color: var(--sklearn-color-text-muted);\n",
              "}\n",
              "\n",
              "#sk-container-id-2 label.sk-toggleable__label-arrow:before {\n",
              "  /* Arrow on the left of the label */\n",
              "  content: \"▸\";\n",
              "  float: left;\n",
              "  margin-right: 0.25em;\n",
              "  color: var(--sklearn-color-icon);\n",
              "}\n",
              "\n",
              "#sk-container-id-2 label.sk-toggleable__label-arrow:hover:before {\n",
              "  color: var(--sklearn-color-text);\n",
              "}\n",
              "\n",
              "/* Toggleable content - dropdown */\n",
              "\n",
              "#sk-container-id-2 div.sk-toggleable__content {\n",
              "  max-height: 0;\n",
              "  max-width: 0;\n",
              "  overflow: hidden;\n",
              "  text-align: left;\n",
              "  /* unfitted */\n",
              "  background-color: var(--sklearn-color-unfitted-level-0);\n",
              "}\n",
              "\n",
              "#sk-container-id-2 div.sk-toggleable__content.fitted {\n",
              "  /* fitted */\n",
              "  background-color: var(--sklearn-color-fitted-level-0);\n",
              "}\n",
              "\n",
              "#sk-container-id-2 div.sk-toggleable__content pre {\n",
              "  margin: 0.2em;\n",
              "  border-radius: 0.25em;\n",
              "  color: var(--sklearn-color-text);\n",
              "  /* unfitted */\n",
              "  background-color: var(--sklearn-color-unfitted-level-0);\n",
              "}\n",
              "\n",
              "#sk-container-id-2 div.sk-toggleable__content.fitted pre {\n",
              "  /* unfitted */\n",
              "  background-color: var(--sklearn-color-fitted-level-0);\n",
              "}\n",
              "\n",
              "#sk-container-id-2 input.sk-toggleable__control:checked~div.sk-toggleable__content {\n",
              "  /* Expand drop-down */\n",
              "  max-height: 200px;\n",
              "  max-width: 100%;\n",
              "  overflow: auto;\n",
              "}\n",
              "\n",
              "#sk-container-id-2 input.sk-toggleable__control:checked~label.sk-toggleable__label-arrow:before {\n",
              "  content: \"▾\";\n",
              "}\n",
              "\n",
              "/* Pipeline/ColumnTransformer-specific style */\n",
              "\n",
              "#sk-container-id-2 div.sk-label input.sk-toggleable__control:checked~label.sk-toggleable__label {\n",
              "  color: var(--sklearn-color-text);\n",
              "  background-color: var(--sklearn-color-unfitted-level-2);\n",
              "}\n",
              "\n",
              "#sk-container-id-2 div.sk-label.fitted input.sk-toggleable__control:checked~label.sk-toggleable__label {\n",
              "  background-color: var(--sklearn-color-fitted-level-2);\n",
              "}\n",
              "\n",
              "/* Estimator-specific style */\n",
              "\n",
              "/* Colorize estimator box */\n",
              "#sk-container-id-2 div.sk-estimator input.sk-toggleable__control:checked~label.sk-toggleable__label {\n",
              "  /* unfitted */\n",
              "  background-color: var(--sklearn-color-unfitted-level-2);\n",
              "}\n",
              "\n",
              "#sk-container-id-2 div.sk-estimator.fitted input.sk-toggleable__control:checked~label.sk-toggleable__label {\n",
              "  /* fitted */\n",
              "  background-color: var(--sklearn-color-fitted-level-2);\n",
              "}\n",
              "\n",
              "#sk-container-id-2 div.sk-label label.sk-toggleable__label,\n",
              "#sk-container-id-2 div.sk-label label {\n",
              "  /* The background is the default theme color */\n",
              "  color: var(--sklearn-color-text-on-default-background);\n",
              "}\n",
              "\n",
              "/* On hover, darken the color of the background */\n",
              "#sk-container-id-2 div.sk-label:hover label.sk-toggleable__label {\n",
              "  color: var(--sklearn-color-text);\n",
              "  background-color: var(--sklearn-color-unfitted-level-2);\n",
              "}\n",
              "\n",
              "/* Label box, darken color on hover, fitted */\n",
              "#sk-container-id-2 div.sk-label.fitted:hover label.sk-toggleable__label.fitted {\n",
              "  color: var(--sklearn-color-text);\n",
              "  background-color: var(--sklearn-color-fitted-level-2);\n",
              "}\n",
              "\n",
              "/* Estimator label */\n",
              "\n",
              "#sk-container-id-2 div.sk-label label {\n",
              "  font-family: monospace;\n",
              "  font-weight: bold;\n",
              "  display: inline-block;\n",
              "  line-height: 1.2em;\n",
              "}\n",
              "\n",
              "#sk-container-id-2 div.sk-label-container {\n",
              "  text-align: center;\n",
              "}\n",
              "\n",
              "/* Estimator-specific */\n",
              "#sk-container-id-2 div.sk-estimator {\n",
              "  font-family: monospace;\n",
              "  border: 1px dotted var(--sklearn-color-border-box);\n",
              "  border-radius: 0.25em;\n",
              "  box-sizing: border-box;\n",
              "  margin-bottom: 0.5em;\n",
              "  /* unfitted */\n",
              "  background-color: var(--sklearn-color-unfitted-level-0);\n",
              "}\n",
              "\n",
              "#sk-container-id-2 div.sk-estimator.fitted {\n",
              "  /* fitted */\n",
              "  background-color: var(--sklearn-color-fitted-level-0);\n",
              "}\n",
              "\n",
              "/* on hover */\n",
              "#sk-container-id-2 div.sk-estimator:hover {\n",
              "  /* unfitted */\n",
              "  background-color: var(--sklearn-color-unfitted-level-2);\n",
              "}\n",
              "\n",
              "#sk-container-id-2 div.sk-estimator.fitted:hover {\n",
              "  /* fitted */\n",
              "  background-color: var(--sklearn-color-fitted-level-2);\n",
              "}\n",
              "\n",
              "/* Specification for estimator info (e.g. \"i\" and \"?\") */\n",
              "\n",
              "/* Common style for \"i\" and \"?\" */\n",
              "\n",
              ".sk-estimator-doc-link,\n",
              "a:link.sk-estimator-doc-link,\n",
              "a:visited.sk-estimator-doc-link {\n",
              "  float: right;\n",
              "  font-size: smaller;\n",
              "  line-height: 1em;\n",
              "  font-family: monospace;\n",
              "  background-color: var(--sklearn-color-background);\n",
              "  border-radius: 1em;\n",
              "  height: 1em;\n",
              "  width: 1em;\n",
              "  text-decoration: none !important;\n",
              "  margin-left: 0.5em;\n",
              "  text-align: center;\n",
              "  /* unfitted */\n",
              "  border: var(--sklearn-color-unfitted-level-1) 1pt solid;\n",
              "  color: var(--sklearn-color-unfitted-level-1);\n",
              "}\n",
              "\n",
              ".sk-estimator-doc-link.fitted,\n",
              "a:link.sk-estimator-doc-link.fitted,\n",
              "a:visited.sk-estimator-doc-link.fitted {\n",
              "  /* fitted */\n",
              "  border: var(--sklearn-color-fitted-level-1) 1pt solid;\n",
              "  color: var(--sklearn-color-fitted-level-1);\n",
              "}\n",
              "\n",
              "/* On hover */\n",
              "div.sk-estimator:hover .sk-estimator-doc-link:hover,\n",
              ".sk-estimator-doc-link:hover,\n",
              "div.sk-label-container:hover .sk-estimator-doc-link:hover,\n",
              ".sk-estimator-doc-link:hover {\n",
              "  /* unfitted */\n",
              "  background-color: var(--sklearn-color-unfitted-level-3);\n",
              "  color: var(--sklearn-color-background);\n",
              "  text-decoration: none;\n",
              "}\n",
              "\n",
              "div.sk-estimator.fitted:hover .sk-estimator-doc-link.fitted:hover,\n",
              ".sk-estimator-doc-link.fitted:hover,\n",
              "div.sk-label-container:hover .sk-estimator-doc-link.fitted:hover,\n",
              ".sk-estimator-doc-link.fitted:hover {\n",
              "  /* fitted */\n",
              "  background-color: var(--sklearn-color-fitted-level-3);\n",
              "  color: var(--sklearn-color-background);\n",
              "  text-decoration: none;\n",
              "}\n",
              "\n",
              "/* Span, style for the box shown on hovering the info icon */\n",
              ".sk-estimator-doc-link span {\n",
              "  display: none;\n",
              "  z-index: 9999;\n",
              "  position: relative;\n",
              "  font-weight: normal;\n",
              "  right: .2ex;\n",
              "  padding: .5ex;\n",
              "  margin: .5ex;\n",
              "  width: min-content;\n",
              "  min-width: 20ex;\n",
              "  max-width: 50ex;\n",
              "  color: var(--sklearn-color-text);\n",
              "  box-shadow: 2pt 2pt 4pt #999;\n",
              "  /* unfitted */\n",
              "  background: var(--sklearn-color-unfitted-level-0);\n",
              "  border: .5pt solid var(--sklearn-color-unfitted-level-3);\n",
              "}\n",
              "\n",
              ".sk-estimator-doc-link.fitted span {\n",
              "  /* fitted */\n",
              "  background: var(--sklearn-color-fitted-level-0);\n",
              "  border: var(--sklearn-color-fitted-level-3);\n",
              "}\n",
              "\n",
              ".sk-estimator-doc-link:hover span {\n",
              "  display: block;\n",
              "}\n",
              "\n",
              "/* \"?\"-specific style due to the `<a>` HTML tag */\n",
              "\n",
              "#sk-container-id-2 a.estimator_doc_link {\n",
              "  float: right;\n",
              "  font-size: 1rem;\n",
              "  line-height: 1em;\n",
              "  font-family: monospace;\n",
              "  background-color: var(--sklearn-color-background);\n",
              "  border-radius: 1rem;\n",
              "  height: 1rem;\n",
              "  width: 1rem;\n",
              "  text-decoration: none;\n",
              "  /* unfitted */\n",
              "  color: var(--sklearn-color-unfitted-level-1);\n",
              "  border: var(--sklearn-color-unfitted-level-1) 1pt solid;\n",
              "}\n",
              "\n",
              "#sk-container-id-2 a.estimator_doc_link.fitted {\n",
              "  /* fitted */\n",
              "  border: var(--sklearn-color-fitted-level-1) 1pt solid;\n",
              "  color: var(--sklearn-color-fitted-level-1);\n",
              "}\n",
              "\n",
              "/* On hover */\n",
              "#sk-container-id-2 a.estimator_doc_link:hover {\n",
              "  /* unfitted */\n",
              "  background-color: var(--sklearn-color-unfitted-level-3);\n",
              "  color: var(--sklearn-color-background);\n",
              "  text-decoration: none;\n",
              "}\n",
              "\n",
              "#sk-container-id-2 a.estimator_doc_link.fitted:hover {\n",
              "  /* fitted */\n",
              "  background-color: var(--sklearn-color-fitted-level-3);\n",
              "}\n",
              "</style><div id=\"sk-container-id-2\" class=\"sk-top-container\"><div class=\"sk-text-repr-fallback\"><pre>GridSearchCV(cv=5,\n",
              "             estimator=Pipeline(steps=[(&#x27;tfidf&#x27;, TfidfVectorizer()),\n",
              "                                       (&#x27;smote&#x27;,\n",
              "                                        SMOTE(random_state=42,\n",
              "                                              sampling_strategy=&#x27;not &#x27;\n",
              "                                                                &#x27;majority&#x27;)),\n",
              "                                       (&#x27;logreg&#x27;,\n",
              "                                        LogisticRegression(class_weight=&#x27;balanced&#x27;,\n",
              "                                                           max_iter=1000))]),\n",
              "             n_jobs=-1,\n",
              "             param_grid={&#x27;logreg__C&#x27;: [0.01, 0.1, 1, 10],\n",
              "                         &#x27;logreg__solver&#x27;: [&#x27;liblinear&#x27;, &#x27;saga&#x27;],\n",
              "                         &#x27;tfidf__max_features&#x27;: [5000, 10000],\n",
              "                         &#x27;tfidf__ngram_range&#x27;: [(1, 1), (1, 2), (1, 3)]},\n",
              "             scoring=&#x27;f1_macro&#x27;, verbose=2)</pre><b>In a Jupyter environment, please rerun this cell to show the HTML representation or trust the notebook. <br />On GitHub, the HTML representation is unable to render, please try loading this page with nbviewer.org.</b></div><div class=\"sk-container\" hidden><div class=\"sk-item sk-dashed-wrapped\"><div class=\"sk-label-container\"><div class=\"sk-label fitted sk-toggleable\"><input class=\"sk-toggleable__control sk-hidden--visually\" id=\"sk-estimator-id-2\" type=\"checkbox\" ><label for=\"sk-estimator-id-2\" class=\"sk-toggleable__label fitted sk-toggleable__label-arrow\"><div><div>GridSearchCV</div></div><div><a class=\"sk-estimator-doc-link fitted\" rel=\"noreferrer\" target=\"_blank\" href=\"https://scikit-learn.org/1.6/modules/generated/sklearn.model_selection.GridSearchCV.html\">?<span>Documentation for GridSearchCV</span></a><span class=\"sk-estimator-doc-link fitted\">i<span>Fitted</span></span></div></label><div class=\"sk-toggleable__content fitted\"><pre>GridSearchCV(cv=5,\n",
              "             estimator=Pipeline(steps=[(&#x27;tfidf&#x27;, TfidfVectorizer()),\n",
              "                                       (&#x27;smote&#x27;,\n",
              "                                        SMOTE(random_state=42,\n",
              "                                              sampling_strategy=&#x27;not &#x27;\n",
              "                                                                &#x27;majority&#x27;)),\n",
              "                                       (&#x27;logreg&#x27;,\n",
              "                                        LogisticRegression(class_weight=&#x27;balanced&#x27;,\n",
              "                                                           max_iter=1000))]),\n",
              "             n_jobs=-1,\n",
              "             param_grid={&#x27;logreg__C&#x27;: [0.01, 0.1, 1, 10],\n",
              "                         &#x27;logreg__solver&#x27;: [&#x27;liblinear&#x27;, &#x27;saga&#x27;],\n",
              "                         &#x27;tfidf__max_features&#x27;: [5000, 10000],\n",
              "                         &#x27;tfidf__ngram_range&#x27;: [(1, 1), (1, 2), (1, 3)]},\n",
              "             scoring=&#x27;f1_macro&#x27;, verbose=2)</pre></div> </div></div><div class=\"sk-parallel\"><div class=\"sk-parallel-item\"><div class=\"sk-item\"><div class=\"sk-label-container\"><div class=\"sk-label fitted sk-toggleable\"><input class=\"sk-toggleable__control sk-hidden--visually\" id=\"sk-estimator-id-3\" type=\"checkbox\" ><label for=\"sk-estimator-id-3\" class=\"sk-toggleable__label fitted sk-toggleable__label-arrow\"><div><div>best_estimator_: Pipeline</div></div></label><div class=\"sk-toggleable__content fitted\"><pre>Pipeline(steps=[(&#x27;tfidf&#x27;, TfidfVectorizer(max_features=5000)),\n",
              "                (&#x27;smote&#x27;,\n",
              "                 SMOTE(random_state=42, sampling_strategy=&#x27;not majority&#x27;)),\n",
              "                (&#x27;logreg&#x27;,\n",
              "                 LogisticRegression(C=10, class_weight=&#x27;balanced&#x27;,\n",
              "                                    max_iter=1000, solver=&#x27;saga&#x27;))])</pre></div> </div></div><div class=\"sk-serial\"><div class=\"sk-item\"><div class=\"sk-serial\"><div class=\"sk-item\"><div class=\"sk-estimator fitted sk-toggleable\"><input class=\"sk-toggleable__control sk-hidden--visually\" id=\"sk-estimator-id-4\" type=\"checkbox\" ><label for=\"sk-estimator-id-4\" class=\"sk-toggleable__label fitted sk-toggleable__label-arrow\"><div><div>TfidfVectorizer</div></div><div><a class=\"sk-estimator-doc-link fitted\" rel=\"noreferrer\" target=\"_blank\" href=\"https://scikit-learn.org/1.6/modules/generated/sklearn.feature_extraction.text.TfidfVectorizer.html\">?<span>Documentation for TfidfVectorizer</span></a></div></label><div class=\"sk-toggleable__content fitted\"><pre>TfidfVectorizer(max_features=5000)</pre></div> </div></div><div class=\"sk-item\"><div class=\"sk-estimator fitted sk-toggleable\"><input class=\"sk-toggleable__control sk-hidden--visually\" id=\"sk-estimator-id-5\" type=\"checkbox\" ><label for=\"sk-estimator-id-5\" class=\"sk-toggleable__label fitted sk-toggleable__label-arrow\"><div><div>SMOTE</div></div></label><div class=\"sk-toggleable__content fitted\"><pre>SMOTE(random_state=42, sampling_strategy=&#x27;not majority&#x27;)</pre></div> </div></div><div class=\"sk-item\"><div class=\"sk-estimator fitted sk-toggleable\"><input class=\"sk-toggleable__control sk-hidden--visually\" id=\"sk-estimator-id-6\" type=\"checkbox\" ><label for=\"sk-estimator-id-6\" class=\"sk-toggleable__label fitted sk-toggleable__label-arrow\"><div><div>LogisticRegression</div></div><div><a class=\"sk-estimator-doc-link fitted\" rel=\"noreferrer\" target=\"_blank\" href=\"https://scikit-learn.org/1.6/modules/generated/sklearn.linear_model.LogisticRegression.html\">?<span>Documentation for LogisticRegression</span></a></div></label><div class=\"sk-toggleable__content fitted\"><pre>LogisticRegression(C=10, class_weight=&#x27;balanced&#x27;, max_iter=1000, solver=&#x27;saga&#x27;)</pre></div> </div></div></div></div></div></div></div></div></div></div></div>"
            ]
          },
          "metadata": {},
          "execution_count": 17
        }
      ]
    },
    {
      "cell_type": "markdown",
      "source": [
        "#### 5) Retrieve the Best Configuration\n",
        "\n",
        "After the search:\n",
        "\n",
        "- `grid.best_params_` → the best hyperparameters found.\n",
        "- `grid.best_estimator_` → the ready-to-use Pipeline (TF-IDF + Logistic Regression) with those params.\n"
      ],
      "metadata": {
        "id": "z5XMwr13EKTK"
      }
    },
    {
      "cell_type": "code",
      "source": [
        "# 5. Best model\n",
        "print(\"Best Params:\", grid.best_params_)\n",
        "best_model = grid.best_estimator_"
      ],
      "metadata": {
        "colab": {
          "base_uri": "https://localhost:8080/"
        },
        "id": "Jnp5zhpOO-pg",
        "outputId": "24717dad-4456-4e57-8f5c-a628b5a3f21e"
      },
      "execution_count": 18,
      "outputs": [
        {
          "output_type": "stream",
          "name": "stdout",
          "text": [
            "Best Params: {'logreg__C': 10, 'logreg__solver': 'saga', 'tfidf__max_features': 5000, 'tfidf__ngram_range': (1, 1)}\n"
          ]
        }
      ]
    },
    {
      "cell_type": "markdown",
      "source": [
        "#### 6) Evaluate the Best Model\n",
        "\n",
        "\n"
      ],
      "metadata": {
        "id": "IPq7c1-wEXOK"
      }
    },
    {
      "cell_type": "code",
      "source": [
        "y_pred = best_model.predict(X_test)\n",
        "\n",
        "print(classification_report(y_test, y_pred))\n",
        "\n",
        "# Confusion Matrix\n",
        "cm = confusion_matrix(y_test, y_pred, labels=[\"positive\", \"neutral\", \"negative\"])\n",
        "sns.heatmap(cm, annot=True, fmt='d', cmap='Blues', xticklabels=[\"positive\", \"neutral\", \"negative\"], yticklabels=[\"positive\", \"neutral\", \"negative\"])\n",
        "plt.xlabel(\"Predicted\")\n",
        "plt.ylabel(\"Actual\")\n",
        "plt.title('confusion matrix')\n",
        "plt.show()"
      ],
      "metadata": {
        "colab": {
          "base_uri": "https://localhost:8080/",
          "height": 657
        },
        "id": "qKHVfSloKBe0",
        "outputId": "84afba0b-e146-413f-c064-693efc977b5d"
      },
      "execution_count": 19,
      "outputs": [
        {
          "output_type": "stream",
          "name": "stdout",
          "text": [
            "              precision    recall  f1-score   support\n",
            "\n",
            "    negative       0.40      0.40      0.40        15\n",
            "     neutral       0.84      0.64      0.73        25\n",
            "    positive       0.92      0.95      0.93       196\n",
            "\n",
            "    accuracy                           0.88       236\n",
            "   macro avg       0.72      0.66      0.69       236\n",
            "weighted avg       0.88      0.88      0.88       236\n",
            "\n"
          ]
        },
        {
          "output_type": "display_data",
          "data": {
            "text/plain": [
              "<Figure size 640x480 with 2 Axes>"
            ],
            "image/png": "[encoded data removed]"
          },
          "metadata": {}
        }
      ]
    },
    {
      "cell_type": "markdown",
      "source": [
        "### Final Results with GridSearchCV\n",
        "\n",
        "The tuned **TF-IDF + Logistic Regression (Pipeline)** model outperforms the baseline:\n",
        "\n",
        "- **Positive reviews**: very strong performance (high precision and recall).  \n",
        "- **Neutral reviews**: improved compared to the baseline, but still the hardest class to predict (often confused with positive).  \n",
        "- **Negative reviews**: moderate improvement, but recall remains lower due to limited training data.  \n",
        "\n",
        "**Key insights:**\n",
        "- The **GridSearchCV tuning** (ngram ranges, vocabulary size, regularization `C`, solver) helped the model capture richer patterns in text, boosting overall macro-F1.  \n",
        "\n"
      ],
      "metadata": {
        "id": "g4SN0QqCJGPW"
      }
    },
    {
      "cell_type": "markdown",
      "source": [
        "##  Comparison: Logistic Regression + SMOTE vs GridSearchCV + SMOTE\n",
        "\n",
        "We tested two main approaches to handle class imbalance and optimize our model:\n",
        "\n",
        "### 1. Logistic Regression + SMOTE (manual resampling before training)  \n",
        "\n",
        "- Achieves slightly better **macro F1-score**, meaning the performance is more balanced across all classes.  \n",
        "- Recovers more **negative samples** thanks to SMOTE applied before training.  \n",
        "\n",
        "### 2. GridSearchCV + SMOTE (SMOTE inside pipeline)\n",
        "\n",
        "- More **robust and clean approach** .  \n",
        "- Very high performance on the **majority (positive) class**.  \n",
        "- Slightly lower **macro F1** compared to Logistic Regression + SMOTE.  \n",
        "- Recall for the **negative class** is weaker (0.40 vs 0.53).  \n",
        "\n",
        "\n",
        "\n",
        "**The best model in this case  = Logistic Regression + SMOTE, because it better handles the imbalance and gives higher recall for the minority class.**\n"
      ],
      "metadata": {
        "id": "2uTcsvd9YP1M"
      }
    },
    {
      "cell_type": "markdown",
      "source": [
        "###Conclusion\n",
        "\n",
        "In this project, we built and compared multiple sentiment analysis models on Amazon product reviews.\n",
        "\n",
        "**Logistic Regression + SMOTE:**\n",
        "\n",
        "Achieved good overall accuracy (~90%) and strong performance for the positive class.\n",
        "\n",
        "Improved minority class detection compared to Logistic Regression without SMOTE.\n",
        "\n",
        "**GridSearchCV + SMOTE (Pipeline):**\n",
        "\n",
        "Slight improvement in hyperparameter tuning, but overall performance remained close to the simple Logistic + SMOTE model.\n",
        "\n",
        "Minority classes (neutral and negative) still showed lower precision and recall compared to the positive class.\n",
        "\n",
        "* Key Insight: Although both approaches reached ~88–90% accuracy, the main challenge remains the imbalance between classes. While SMOTE helped, the model still struggles with negative and neutral sentiments."
      ],
      "metadata": {
        "id": "zCz0B8QiitHB"
      }
    }
  ]
}